{
  "nbformat": 4,
  "nbformat_minor": 0,
  "metadata": {
    "kernelspec": {
      "language": "python",
      "display_name": "Python 3",
      "name": "python3"
    },
    "language_info": {
      "pygments_lexer": "ipython3",
      "nbconvert_exporter": "python",
      "version": "3.6.4",
      "file_extension": ".py",
      "codemirror_mode": {
        "name": "ipython",
        "version": 3
      },
      "name": "python",
      "mimetype": "text/x-python"
    },
    "colab": {
      "name": "MK-Seq-NLP.ipynb",
      "provenance": [],
      "collapsed_sections": [
        "QTCHVeNrUiZ2"
      ]
    }
  },
  "cells": [
    {
      "cell_type": "markdown",
      "metadata": {
        "id": "wAVq_GUbUiZY"
      },
      "source": [
        "DOMAIN: Social media analytics\n",
        "\n",
        "• CONTEXT: Past studies in Sarcasm Detection mostly make use of Twitter datasets collected using hashtag based supervision but such datasets are noisy in terms of labels and language. Furthermore, many tweets are replies to other tweets and detecting sarcasm in these requires the availability of contextual tweets.In this hands-on project, the goal is to build a model to detect whether a sentence is sarcastic or not, using Bidirectional LSTMs.\n",
        "\n",
        "• DATA DESCRIPTION:\n",
        "The dataset is collected from two news websites, theonion.com and huffingtonpost.com. This new dataset has the following advantages over the existing Twitter datasets:\n",
        "Since news headlines are written by professionals in a formal manner, there are no spelling mistakes and informal usage. This reduces the sparsity and also increases the chance of finding pre-trained embeddings. Furthermore, since the sole purpose of TheOnion is to publish sarcastic news, we get high-quality labels with much less noise as compared to Twitter datasets.\n",
        "Unlike tweets that reply to other tweets, the news headlines obtained are self-contained. This would help us in teasing apart the real sarcastic elements\n",
        "\n",
        "Content: Each record consists of three attributes:\n",
        "is_sarcastic: 1 if the record is sarcastic otherwise 0\n",
        "headline: the headline of the news article\n",
        "article_link: link to the original news article. Useful in collecting supplementary data Reference: https://github.com/rishabhmisra/News-Headlines-Dataset-For-Sarcasm-Detection\n",
        "• PROJECT OBJECTIVE: Build a sequential NLP classifier which can use input text parameters to determine the customer sentiments.\n",
        "\n",
        "Steps and tasks: [ Total Score: 30 points]\n",
        "1. Read and explore the data 2. Retain relevant columns\n",
        "3. Get length of each sentence 4. Define parameters\n",
        "5. Get indices for words\n",
        "6. Create features and labels\n",
        "7. Get vocabulary size\n",
        "8. Create a weight matrix using GloVe embeddings 9. Define and compile a Bidirectional LSTM model.\n",
        "Hint: Be analytical and experimental here in trying new approaches to design the best model. 10. Fit the model and check the validation accuracy\n"
      ]
    },
    {
      "cell_type": "markdown",
      "metadata": {
        "id": "dfee7-LRUiZc"
      },
      "source": [
        "### Import the libraries"
      ]
    },
    {
      "cell_type": "code",
      "metadata": {
        "trusted": true,
        "id": "lEVohshUUiZd"
      },
      "source": [
        "import json\n",
        "import pandas as pd\n",
        "import numpy as np\n",
        "import os\n",
        "import seaborn as sns\n",
        "import matplotlib.pyplot as plt\n",
        "from wordcloud import WordCloud, STOPWORDS\n",
        "from nltk.stem.wordnet import WordNetLemmatizer\n",
        "import re, string\n",
        "from nltk.corpus import stopwords\n",
        "\n",
        "from sklearn.model_selection import train_test_split\n",
        "\n",
        "import tensorflow as tf\n",
        "from tensorflow.keras.preprocessing.text import Tokenizer\n",
        "from tensorflow.keras.preprocessing.sequence import pad_sequences\n",
        "from tensorflow.keras.callbacks import ReduceLROnPlateau \n",
        "\n",
        "\n",
        "import warnings\n",
        "warnings.filterwarnings(\"ignore\")\n"
      ],
      "execution_count": 1,
      "outputs": []
    },
    {
      "cell_type": "code",
      "metadata": {
        "colab": {
          "base_uri": "https://localhost:8080/"
        },
        "id": "vTlQkYnDXevq",
        "outputId": "590864ae-375c-46f6-92af-5ca1a48f55b0"
      },
      "source": [
        "from google.colab import drive\n",
        "drive.mount('/content/drive')"
      ],
      "execution_count": 2,
      "outputs": [
        {
          "output_type": "stream",
          "name": "stdout",
          "text": [
            "Drive already mounted at /content/drive; to attempt to forcibly remount, call drive.mount(\"/content/drive\", force_remount=True).\n"
          ]
        }
      ]
    },
    {
      "cell_type": "markdown",
      "metadata": {
        "id": "srhjWarVUiZe"
      },
      "source": [
        "### Loading the Dataset"
      ]
    },
    {
      "cell_type": "code",
      "metadata": {
        "_uuid": "d629ff2d2480ee46fbb7e2d37f6b5fab8052498a",
        "_cell_guid": "79c7e3d0-c299-4dcb-8224-4455121ee9b0",
        "trusted": true,
        "colab": {
          "base_uri": "https://localhost:8080/",
          "height": 204
        },
        "id": "18edI2NdUiZe",
        "outputId": "43fb88db-12f4-446e-d354-ed4781436b82"
      },
      "source": [
        "df_News = pd.read_json('/content/drive/MyDrive/GL/Seq-NLP-assign/Sarcasm_Headlines_Dataset.json', lines=True)\n",
        "df_News.head()"
      ],
      "execution_count": 4,
      "outputs": [
        {
          "output_type": "execute_result",
          "data": {
            "text/html": [
              "<div>\n",
              "<style scoped>\n",
              "    .dataframe tbody tr th:only-of-type {\n",
              "        vertical-align: middle;\n",
              "    }\n",
              "\n",
              "    .dataframe tbody tr th {\n",
              "        vertical-align: top;\n",
              "    }\n",
              "\n",
              "    .dataframe thead th {\n",
              "        text-align: right;\n",
              "    }\n",
              "</style>\n",
              "<table border=\"1\" class=\"dataframe\">\n",
              "  <thead>\n",
              "    <tr style=\"text-align: right;\">\n",
              "      <th></th>\n",
              "      <th>is_sarcastic</th>\n",
              "      <th>headline</th>\n",
              "      <th>article_link</th>\n",
              "    </tr>\n",
              "  </thead>\n",
              "  <tbody>\n",
              "    <tr>\n",
              "      <th>0</th>\n",
              "      <td>1</td>\n",
              "      <td>thirtysomething scientists unveil doomsday clo...</td>\n",
              "      <td>https://www.theonion.com/thirtysomething-scien...</td>\n",
              "    </tr>\n",
              "    <tr>\n",
              "      <th>1</th>\n",
              "      <td>0</td>\n",
              "      <td>dem rep. totally nails why congress is falling...</td>\n",
              "      <td>https://www.huffingtonpost.com/entry/donna-edw...</td>\n",
              "    </tr>\n",
              "    <tr>\n",
              "      <th>2</th>\n",
              "      <td>0</td>\n",
              "      <td>eat your veggies: 9 deliciously different recipes</td>\n",
              "      <td>https://www.huffingtonpost.com/entry/eat-your-...</td>\n",
              "    </tr>\n",
              "    <tr>\n",
              "      <th>3</th>\n",
              "      <td>1</td>\n",
              "      <td>inclement weather prevents liar from getting t...</td>\n",
              "      <td>https://local.theonion.com/inclement-weather-p...</td>\n",
              "    </tr>\n",
              "    <tr>\n",
              "      <th>4</th>\n",
              "      <td>1</td>\n",
              "      <td>mother comes pretty close to using word 'strea...</td>\n",
              "      <td>https://www.theonion.com/mother-comes-pretty-c...</td>\n",
              "    </tr>\n",
              "  </tbody>\n",
              "</table>\n",
              "</div>"
            ],
            "text/plain": [
              "   is_sarcastic  ...                                       article_link\n",
              "0             1  ...  https://www.theonion.com/thirtysomething-scien...\n",
              "1             0  ...  https://www.huffingtonpost.com/entry/donna-edw...\n",
              "2             0  ...  https://www.huffingtonpost.com/entry/eat-your-...\n",
              "3             1  ...  https://local.theonion.com/inclement-weather-p...\n",
              "4             1  ...  https://www.theonion.com/mother-comes-pretty-c...\n",
              "\n",
              "[5 rows x 3 columns]"
            ]
          },
          "metadata": {},
          "execution_count": 4
        }
      ]
    },
    {
      "cell_type": "code",
      "metadata": {
        "trusted": true,
        "colab": {
          "base_uri": "https://localhost:8080/"
        },
        "id": "AKlNODx0UiZg",
        "outputId": "70aaa333-a0cb-45b8-c585-569adc91b217"
      },
      "source": [
        "df_News.shape"
      ],
      "execution_count": 5,
      "outputs": [
        {
          "output_type": "execute_result",
          "data": {
            "text/plain": [
              "(28619, 3)"
            ]
          },
          "metadata": {},
          "execution_count": 5
        }
      ]
    },
    {
      "cell_type": "markdown",
      "metadata": {
        "id": "oierSkIRUiZg"
      },
      "source": [
        "### Exploratory Data Analysis"
      ]
    },
    {
      "cell_type": "code",
      "metadata": {
        "trusted": true,
        "colab": {
          "base_uri": "https://localhost:8080/"
        },
        "id": "kg1xqeV9UiZh",
        "outputId": "27cd7af5-fe0d-464d-bb30-a6f1b2e400a0"
      },
      "source": [
        "df_News.info()"
      ],
      "execution_count": 6,
      "outputs": [
        {
          "output_type": "stream",
          "name": "stdout",
          "text": [
            "<class 'pandas.core.frame.DataFrame'>\n",
            "RangeIndex: 28619 entries, 0 to 28618\n",
            "Data columns (total 3 columns):\n",
            " #   Column        Non-Null Count  Dtype \n",
            "---  ------        --------------  ----- \n",
            " 0   is_sarcastic  28619 non-null  int64 \n",
            " 1   headline      28619 non-null  object\n",
            " 2   article_link  28619 non-null  object\n",
            "dtypes: int64(1), object(2)\n",
            "memory usage: 670.9+ KB\n"
          ]
        }
      ]
    },
    {
      "cell_type": "code",
      "metadata": {
        "trusted": true,
        "colab": {
          "base_uri": "https://localhost:8080/",
          "height": 204
        },
        "id": "jd0NzTJPUiZh",
        "outputId": "e3823140-fb5c-4c15-9d5b-da8b09f3eb16"
      },
      "source": [
        "# looking at some sarcastic news\n",
        "df_News[df_News.is_sarcastic == 1].head(5)"
      ],
      "execution_count": 7,
      "outputs": [
        {
          "output_type": "execute_result",
          "data": {
            "text/html": [
              "<div>\n",
              "<style scoped>\n",
              "    .dataframe tbody tr th:only-of-type {\n",
              "        vertical-align: middle;\n",
              "    }\n",
              "\n",
              "    .dataframe tbody tr th {\n",
              "        vertical-align: top;\n",
              "    }\n",
              "\n",
              "    .dataframe thead th {\n",
              "        text-align: right;\n",
              "    }\n",
              "</style>\n",
              "<table border=\"1\" class=\"dataframe\">\n",
              "  <thead>\n",
              "    <tr style=\"text-align: right;\">\n",
              "      <th></th>\n",
              "      <th>is_sarcastic</th>\n",
              "      <th>headline</th>\n",
              "      <th>article_link</th>\n",
              "    </tr>\n",
              "  </thead>\n",
              "  <tbody>\n",
              "    <tr>\n",
              "      <th>0</th>\n",
              "      <td>1</td>\n",
              "      <td>thirtysomething scientists unveil doomsday clo...</td>\n",
              "      <td>https://www.theonion.com/thirtysomething-scien...</td>\n",
              "    </tr>\n",
              "    <tr>\n",
              "      <th>3</th>\n",
              "      <td>1</td>\n",
              "      <td>inclement weather prevents liar from getting t...</td>\n",
              "      <td>https://local.theonion.com/inclement-weather-p...</td>\n",
              "    </tr>\n",
              "    <tr>\n",
              "      <th>4</th>\n",
              "      <td>1</td>\n",
              "      <td>mother comes pretty close to using word 'strea...</td>\n",
              "      <td>https://www.theonion.com/mother-comes-pretty-c...</td>\n",
              "    </tr>\n",
              "    <tr>\n",
              "      <th>7</th>\n",
              "      <td>1</td>\n",
              "      <td>richard branson's global-warming donation near...</td>\n",
              "      <td>https://www.theonion.com/richard-bransons-glob...</td>\n",
              "    </tr>\n",
              "    <tr>\n",
              "      <th>8</th>\n",
              "      <td>1</td>\n",
              "      <td>shadow government getting too large to meet in...</td>\n",
              "      <td>https://politics.theonion.com/shadow-governmen...</td>\n",
              "    </tr>\n",
              "  </tbody>\n",
              "</table>\n",
              "</div>"
            ],
            "text/plain": [
              "   is_sarcastic  ...                                       article_link\n",
              "0             1  ...  https://www.theonion.com/thirtysomething-scien...\n",
              "3             1  ...  https://local.theonion.com/inclement-weather-p...\n",
              "4             1  ...  https://www.theonion.com/mother-comes-pretty-c...\n",
              "7             1  ...  https://www.theonion.com/richard-bransons-glob...\n",
              "8             1  ...  https://politics.theonion.com/shadow-governmen...\n",
              "\n",
              "[5 rows x 3 columns]"
            ]
          },
          "metadata": {},
          "execution_count": 7
        }
      ]
    },
    {
      "cell_type": "code",
      "metadata": {
        "trusted": true,
        "colab": {
          "base_uri": "https://localhost:8080/",
          "height": 204
        },
        "id": "LdWH9iCOUiZi",
        "outputId": "f2dd2a78-099d-47cc-b5e2-c96734946ec0"
      },
      "source": [
        "# looking at some legitimate news\n",
        "df_News[df_News.is_sarcastic == 0].head(5)"
      ],
      "execution_count": 8,
      "outputs": [
        {
          "output_type": "execute_result",
          "data": {
            "text/html": [
              "<div>\n",
              "<style scoped>\n",
              "    .dataframe tbody tr th:only-of-type {\n",
              "        vertical-align: middle;\n",
              "    }\n",
              "\n",
              "    .dataframe tbody tr th {\n",
              "        vertical-align: top;\n",
              "    }\n",
              "\n",
              "    .dataframe thead th {\n",
              "        text-align: right;\n",
              "    }\n",
              "</style>\n",
              "<table border=\"1\" class=\"dataframe\">\n",
              "  <thead>\n",
              "    <tr style=\"text-align: right;\">\n",
              "      <th></th>\n",
              "      <th>is_sarcastic</th>\n",
              "      <th>headline</th>\n",
              "      <th>article_link</th>\n",
              "    </tr>\n",
              "  </thead>\n",
              "  <tbody>\n",
              "    <tr>\n",
              "      <th>1</th>\n",
              "      <td>0</td>\n",
              "      <td>dem rep. totally nails why congress is falling...</td>\n",
              "      <td>https://www.huffingtonpost.com/entry/donna-edw...</td>\n",
              "    </tr>\n",
              "    <tr>\n",
              "      <th>2</th>\n",
              "      <td>0</td>\n",
              "      <td>eat your veggies: 9 deliciously different recipes</td>\n",
              "      <td>https://www.huffingtonpost.com/entry/eat-your-...</td>\n",
              "    </tr>\n",
              "    <tr>\n",
              "      <th>5</th>\n",
              "      <td>0</td>\n",
              "      <td>my white inheritance</td>\n",
              "      <td>https://www.huffingtonpost.com/entry/my-white-...</td>\n",
              "    </tr>\n",
              "    <tr>\n",
              "      <th>6</th>\n",
              "      <td>0</td>\n",
              "      <td>5 ways to file your taxes with less stress</td>\n",
              "      <td>https://www.huffingtonpost.com/entry/5-ways-to...</td>\n",
              "    </tr>\n",
              "    <tr>\n",
              "      <th>9</th>\n",
              "      <td>0</td>\n",
              "      <td>lots of parents know this scenario</td>\n",
              "      <td>https://www.huffingtonpost.comhttp://pubx.co/6...</td>\n",
              "    </tr>\n",
              "  </tbody>\n",
              "</table>\n",
              "</div>"
            ],
            "text/plain": [
              "   is_sarcastic  ...                                       article_link\n",
              "1             0  ...  https://www.huffingtonpost.com/entry/donna-edw...\n",
              "2             0  ...  https://www.huffingtonpost.com/entry/eat-your-...\n",
              "5             0  ...  https://www.huffingtonpost.com/entry/my-white-...\n",
              "6             0  ...  https://www.huffingtonpost.com/entry/5-ways-to...\n",
              "9             0  ...  https://www.huffingtonpost.comhttp://pubx.co/6...\n",
              "\n",
              "[5 rows x 3 columns]"
            ]
          },
          "metadata": {},
          "execution_count": 8
        }
      ]
    },
    {
      "cell_type": "markdown",
      "metadata": {
        "id": "VoMBlrSEUiZi"
      },
      "source": [
        "### Target Column Distribution"
      ]
    },
    {
      "cell_type": "code",
      "metadata": {
        "trusted": true,
        "colab": {
          "base_uri": "https://localhost:8080/"
        },
        "id": "JiDw-aBaUiZi",
        "outputId": "ae905764-ae07-45b8-dd68-ee79ea5ff8a5"
      },
      "source": [
        "df_News.is_sarcastic.value_counts()"
      ],
      "execution_count": 9,
      "outputs": [
        {
          "output_type": "execute_result",
          "data": {
            "text/plain": [
              "0    14985\n",
              "1    13634\n",
              "Name: is_sarcastic, dtype: int64"
            ]
          },
          "metadata": {},
          "execution_count": 9
        }
      ]
    },
    {
      "cell_type": "markdown",
      "metadata": {
        "id": "2VqbMJQ4UiZj"
      },
      "source": [
        "The dataset appears to be balanced for Sarcastic and legitimate news"
      ]
    },
    {
      "cell_type": "code",
      "metadata": {
        "trusted": true,
        "colab": {
          "base_uri": "https://localhost:8080/",
          "height": 297
        },
        "id": "PDIHe764UiZj",
        "outputId": "d6735c0c-28b2-48fc-a029-0017ebffe2a2"
      },
      "source": [
        "sns.countplot(df_News.is_sarcastic)"
      ],
      "execution_count": 11,
      "outputs": [
        {
          "output_type": "execute_result",
          "data": {
            "text/plain": [
              "<matplotlib.axes._subplots.AxesSubplot at 0x7fe56d24d190>"
            ]
          },
          "metadata": {},
          "execution_count": 11
        },
        {
          "output_type": "display_data",
          "data": {
            "image/png": "[encoded data removed]",
            "text/plain": [
              "<Figure size 432x288 with 1 Axes>"
            ]
          },
          "metadata": {
            "needs_background": "light"
          }
        }
      ]
    },
    {
      "cell_type": "code",
      "metadata": {
        "trusted": true,
        "colab": {
          "base_uri": "https://localhost:8080/",
          "height": 255
        },
        "id": "y9zZHfdtUiZj",
        "outputId": "aaf5c451-0734-410c-a2d8-d39f2e939d1b"
      },
      "source": [
        "wordcloud = WordCloud(background_color='black',\n",
        "                    stopwords = STOPWORDS,\n",
        "                    max_words = 100,\n",
        "                    random_state = 101, \n",
        "                    width=1800, \n",
        "                    height=1000)\n",
        "wordcloud.generate(str(df_News['headline']))\n",
        "plt.imshow(wordcloud)"
      ],
      "execution_count": 12,
      "outputs": [
        {
          "output_type": "execute_result",
          "data": {
            "text/plain": [
              "<matplotlib.image.AxesImage at 0x7fe56cf7ac90>"
            ]
          },
          "metadata": {},
          "execution_count": 12
        },
        {
          "output_type": "display_data",
          "data": {
            "image/png": "[encoded data removed]",
            "text/plain": [
              "<Figure size 432x288 with 1 Axes>"
            ]
          },
          "metadata": {
            "needs_background": "light"
          }
        }
      ]
    },
    {
      "cell_type": "markdown",
      "metadata": {
        "id": "j6okm-7yUiZk"
      },
      "source": [
        "### News Headline length Distribution"
      ]
    },
    {
      "cell_type": "code",
      "metadata": {
        "trusted": true,
        "id": "7DOfvj9QUiZk"
      },
      "source": [
        "df_News['headline_len'] = df_News.headline.apply(lambda x: len(x.split()))"
      ],
      "execution_count": 13,
      "outputs": []
    },
    {
      "cell_type": "code",
      "metadata": {
        "trusted": true,
        "id": "idHG6M4qUiZk"
      },
      "source": [
        "sarcastic = df_News[df_News.is_sarcastic == 1]\n",
        "legit = df_News[df_News.is_sarcastic == 0]"
      ],
      "execution_count": 14,
      "outputs": []
    },
    {
      "cell_type": "code",
      "metadata": {
        "trusted": true,
        "colab": {
          "base_uri": "https://localhost:8080/",
          "height": 349
        },
        "id": "7Ugykc42UiZk",
        "outputId": "7b8bb400-1d18-441a-df6e-718640b2b865"
      },
      "source": [
        "plt.figure(figsize=(8,5))\n",
        "sns.distplot(sarcastic.headline_len, hist= True, label= 'Sarcastic')\n",
        "sns.distplot(legit.headline_len, hist= True, label= 'legitimate')\n",
        "plt.legend()\n",
        "plt.title('News Headline Length Distribution by Class', fontsize = 10)\n",
        "plt.show()"
      ],
      "execution_count": 15,
      "outputs": [
        {
          "output_type": "display_data",
          "data": {
            "image/png": "[encoded data removed]",
            "text/plain": [
              "<Figure size 576x360 with 1 Axes>"
            ]
          },
          "metadata": {
            "needs_background": "light"
          }
        }
      ]
    },
    {
      "cell_type": "markdown",
      "metadata": {
        "id": "LNgP2Uc9UiZl"
      },
      "source": [
        "### Data Cleaning & Pre-processing"
      ]
    },
    {
      "cell_type": "markdown",
      "metadata": {
        "id": "WpIS_XnfUiZl"
      },
      "source": [
        "Pre-processing, as these are News Headlines which are written by Professionals in a formal way, so to not remove anything which can help with context, I will only remove punctuations and apply lemmatization"
      ]
    },
    {
      "cell_type": "code",
      "metadata": {
        "trusted": true,
        "id": "mp-gU2jEUiZl"
      },
      "source": [
        "df_News = df_News.drop(columns=['article_link'])"
      ],
      "execution_count": 16,
      "outputs": []
    },
    {
      "cell_type": "code",
      "metadata": {
        "id": "L-G5Hitmad0N"
      },
      "source": [
        "import nltk"
      ],
      "execution_count": 17,
      "outputs": []
    },
    {
      "cell_type": "code",
      "metadata": {
        "colab": {
          "base_uri": "https://localhost:8080/"
        },
        "id": "Eid7IAFmafew",
        "outputId": "584beb89-8ce8-474c-e3cf-bcce33d0eae9"
      },
      "source": [
        "nltk.download('stopwords')"
      ],
      "execution_count": 18,
      "outputs": [
        {
          "output_type": "stream",
          "name": "stdout",
          "text": [
            "[nltk_data] Downloading package stopwords to /root/nltk_data...\n",
            "[nltk_data]   Package stopwords is already up-to-date!\n"
          ]
        },
        {
          "output_type": "execute_result",
          "data": {
            "text/plain": [
              "True"
            ]
          },
          "metadata": {},
          "execution_count": 18
        }
      ]
    },
    {
      "cell_type": "code",
      "metadata": {
        "trusted": true,
        "id": "srVq0TT6UiZl"
      },
      "source": [
        "lem = WordNetLemmatizer()\n",
        "stop_words = set(stopwords.words(\"english\"))\n",
        "punctuations = string.punctuation"
      ],
      "execution_count": 19,
      "outputs": []
    },
    {
      "cell_type": "code",
      "metadata": {
        "trusted": true,
        "id": "y--zJPYBUiZl"
      },
      "source": [
        "def clean_text(news):\n",
        "    \"\"\"\n",
        "    This function receives headlines sentence and returns clean sentence\n",
        "    \"\"\"\n",
        "    news = news.lower()\n",
        "    news = re.sub(\"\\\\n\", \"\", news)\n",
        "    #news = re.sub(\"\\W+\", \" \", news)\n",
        "    \n",
        "    #Split the sentences into words\n",
        "    words = list(news.split())\n",
        "    \n",
        "    words = [lem.lemmatize(word, \"v\") for word in words]\n",
        "    words = [w for w in words if w not in punctuations]\n",
        "    #words = [w for w in words if w not in stop_words]\n",
        "    #words = [''.join(x for x in w if x.isalpha()) for w in words]\n",
        "\n",
        "    clean_sen = \" \".join(words)\n",
        "    \n",
        "    return clean_sen"
      ],
      "execution_count": 20,
      "outputs": []
    },
    {
      "cell_type": "code",
      "metadata": {
        "colab": {
          "base_uri": "https://localhost:8080/"
        },
        "id": "m2ZL3dyAauWY",
        "outputId": "4c5f95db-595b-4621-be75-134ca4b99fb3"
      },
      "source": [
        "import nltk\n",
        "nltk.download('wordnet')\n"
      ],
      "execution_count": 21,
      "outputs": [
        {
          "output_type": "stream",
          "name": "stdout",
          "text": [
            "[nltk_data] Downloading package wordnet to /root/nltk_data...\n",
            "[nltk_data]   Package wordnet is already up-to-date!\n"
          ]
        },
        {
          "output_type": "execute_result",
          "data": {
            "text/plain": [
              "True"
            ]
          },
          "metadata": {},
          "execution_count": 21
        }
      ]
    },
    {
      "cell_type": "code",
      "metadata": {
        "trusted": true,
        "colab": {
          "base_uri": "https://localhost:8080/",
          "height": 204
        },
        "id": "nhZTW6KnUiZm",
        "outputId": "54b05435-1ffa-4b7b-d151-5accb2ad3835"
      },
      "source": [
        "df_News['news_headline'] = df_News.headline.apply(lambda news: clean_text(news)) \n",
        "df_News.head()"
      ],
      "execution_count": 22,
      "outputs": [
        {
          "output_type": "execute_result",
          "data": {
            "text/html": [
              "<div>\n",
              "<style scoped>\n",
              "    .dataframe tbody tr th:only-of-type {\n",
              "        vertical-align: middle;\n",
              "    }\n",
              "\n",
              "    .dataframe tbody tr th {\n",
              "        vertical-align: top;\n",
              "    }\n",
              "\n",
              "    .dataframe thead th {\n",
              "        text-align: right;\n",
              "    }\n",
              "</style>\n",
              "<table border=\"1\" class=\"dataframe\">\n",
              "  <thead>\n",
              "    <tr style=\"text-align: right;\">\n",
              "      <th></th>\n",
              "      <th>is_sarcastic</th>\n",
              "      <th>headline</th>\n",
              "      <th>headline_len</th>\n",
              "      <th>news_headline</th>\n",
              "    </tr>\n",
              "  </thead>\n",
              "  <tbody>\n",
              "    <tr>\n",
              "      <th>0</th>\n",
              "      <td>1</td>\n",
              "      <td>thirtysomething scientists unveil doomsday clo...</td>\n",
              "      <td>8</td>\n",
              "      <td>thirtysomething scientists unveil doomsday clo...</td>\n",
              "    </tr>\n",
              "    <tr>\n",
              "      <th>1</th>\n",
              "      <td>0</td>\n",
              "      <td>dem rep. totally nails why congress is falling...</td>\n",
              "      <td>13</td>\n",
              "      <td>dem rep. totally nail why congress be fall sho...</td>\n",
              "    </tr>\n",
              "    <tr>\n",
              "      <th>2</th>\n",
              "      <td>0</td>\n",
              "      <td>eat your veggies: 9 deliciously different recipes</td>\n",
              "      <td>7</td>\n",
              "      <td>eat your veggies: 9 deliciously different recipes</td>\n",
              "    </tr>\n",
              "    <tr>\n",
              "      <th>3</th>\n",
              "      <td>1</td>\n",
              "      <td>inclement weather prevents liar from getting t...</td>\n",
              "      <td>8</td>\n",
              "      <td>inclement weather prevent liar from get to work</td>\n",
              "    </tr>\n",
              "    <tr>\n",
              "      <th>4</th>\n",
              "      <td>1</td>\n",
              "      <td>mother comes pretty close to using word 'strea...</td>\n",
              "      <td>9</td>\n",
              "      <td>mother come pretty close to use word 'streamin...</td>\n",
              "    </tr>\n",
              "  </tbody>\n",
              "</table>\n",
              "</div>"
            ],
            "text/plain": [
              "   is_sarcastic  ...                                      news_headline\n",
              "0             1  ...  thirtysomething scientists unveil doomsday clo...\n",
              "1             0  ...  dem rep. totally nail why congress be fall sho...\n",
              "2             0  ...  eat your veggies: 9 deliciously different recipes\n",
              "3             1  ...    inclement weather prevent liar from get to work\n",
              "4             1  ...  mother come pretty close to use word 'streamin...\n",
              "\n",
              "[5 rows x 4 columns]"
            ]
          },
          "metadata": {},
          "execution_count": 22
        }
      ]
    },
    {
      "cell_type": "code",
      "metadata": {
        "trusted": true,
        "colab": {
          "base_uri": "https://localhost:8080/"
        },
        "id": "PxyMjk7iUiZm",
        "outputId": "d7a1f33d-58fb-48a1-d9f6-a93c40105518"
      },
      "source": [
        "df_News.groupby(['is_sarcastic']).headline_len.mean()"
      ],
      "execution_count": 24,
      "outputs": [
        {
          "output_type": "execute_result",
          "data": {
            "text/plain": [
              "is_sarcastic\n",
              "0     9.815616\n",
              "1    10.307540\n",
              "Name: headline_len, dtype: float64"
            ]
          },
          "metadata": {},
          "execution_count": 24
        }
      ]
    },
    {
      "cell_type": "code",
      "metadata": {
        "trusted": true,
        "colab": {
          "base_uri": "https://localhost:8080/"
        },
        "id": "S3-w1UpuUiZm",
        "outputId": "87013f38-f71e-4ff0-dcd9-fcf092777cfe"
      },
      "source": [
        "df_News.groupby(['is_sarcastic']).headline_len.max()"
      ],
      "execution_count": 25,
      "outputs": [
        {
          "output_type": "execute_result",
          "data": {
            "text/plain": [
              "is_sarcastic\n",
              "0     38\n",
              "1    151\n",
              "Name: headline_len, dtype: int64"
            ]
          },
          "metadata": {},
          "execution_count": 25
        }
      ]
    },
    {
      "cell_type": "markdown",
      "metadata": {
        "id": "DNXWE_lyUiZn"
      },
      "source": [
        "On an Average most of the headlines have same length, in some cases, Sarcastic headlines are longer. "
      ]
    },
    {
      "cell_type": "markdown",
      "metadata": {
        "id": "0N2qzOTkUiZn"
      },
      "source": [
        "### Stratified Split \n",
        "Stratified split to sample approx equal number of instances for training for both the categories of our Target."
      ]
    },
    {
      "cell_type": "code",
      "metadata": {
        "trusted": true,
        "id": "VZjfG25JUiZn"
      },
      "source": [
        "headlines = df_News['news_headline']\n",
        "labels = df_News['is_sarcastic'] "
      ],
      "execution_count": 26,
      "outputs": []
    },
    {
      "cell_type": "code",
      "metadata": {
        "trusted": true,
        "id": "UMBNBpi9UiZo"
      },
      "source": [
        "train_sentences, test_sentences, train_labels, test_labels = train_test_split(headlines, labels, test_size=0.2, stratify=labels, random_state=42)"
      ],
      "execution_count": 27,
      "outputs": []
    },
    {
      "cell_type": "code",
      "metadata": {
        "trusted": true,
        "colab": {
          "base_uri": "https://localhost:8080/"
        },
        "id": "OMZbRrtZUiZo",
        "outputId": "779dfcfa-b927-40b9-f8bf-6df4c09860f5"
      },
      "source": [
        "train_labels.value_counts()"
      ],
      "execution_count": 28,
      "outputs": [
        {
          "output_type": "execute_result",
          "data": {
            "text/plain": [
              "0    11988\n",
              "1    10907\n",
              "Name: is_sarcastic, dtype: int64"
            ]
          },
          "metadata": {},
          "execution_count": 28
        }
      ]
    },
    {
      "cell_type": "markdown",
      "metadata": {
        "id": "FgLxKF6LUiZo"
      },
      "source": [
        "### Converting News Headlines into Sequences of tokens"
      ]
    },
    {
      "cell_type": "code",
      "metadata": {
        "trusted": true,
        "id": "LtD_-C9yUiZo"
      },
      "source": [
        "#Defining Hyperparameters to be used\n",
        "\n",
        "max_words = 30000     # how many unique words to use (i.e num rows in embedding vector)\n",
        "max_len = 70       # max number of words in a headline to use\n",
        "oov_token = '00_V'    # for the words which are not in training samples\n",
        "padding_type = 'post'   # padding type\n",
        "trunc_type = 'post'    # truncation for headlines longer than max length\n",
        "embed_size = 100    # how big is each word vector"
      ],
      "execution_count": 29,
      "outputs": []
    },
    {
      "cell_type": "code",
      "metadata": {
        "trusted": true,
        "id": "o0nR-SsYUiZo"
      },
      "source": [
        "tokenizer = Tokenizer(num_words=max_words, oov_token=oov_token)\n",
        "tokenizer.fit_on_texts(train_sentences)\n",
        "\n",
        "word_index = tokenizer.word_index"
      ],
      "execution_count": 30,
      "outputs": []
    },
    {
      "cell_type": "code",
      "metadata": {
        "trusted": true,
        "id": "2STyZwSRUiZp"
      },
      "source": [
        "train_sequences = tokenizer.texts_to_sequences(train_sentences)\n",
        "train_sequences = pad_sequences(train_sequences, maxlen=max_len, padding=padding_type, truncating=trunc_type)\n",
        "\n",
        "test_sequences = tokenizer.texts_to_sequences(test_sentences)\n",
        "test_sequences = pad_sequences(test_sequences, maxlen=max_len, padding=padding_type, truncating=trunc_type)"
      ],
      "execution_count": 31,
      "outputs": []
    },
    {
      "cell_type": "code",
      "metadata": {
        "trusted": true,
        "colab": {
          "base_uri": "https://localhost:8080/"
        },
        "id": "_LbCnQmEUiZp",
        "outputId": "91190ced-58a7-48e8-dcce-9984728d8c44"
      },
      "source": [
        "train_sequences"
      ],
      "execution_count": 32,
      "outputs": [
        {
          "output_type": "execute_result",
          "data": {
            "text/plain": [
              "array([[ 4250,  1038,  2951, ...,     0,     0,     0],\n",
              "       [ 2068,  6635,  8467, ...,     0,     0,     0],\n",
              "       [ 2581,  1233,  1115, ...,     0,     0,     0],\n",
              "       ...,\n",
              "       [ 1000,  2768,   964, ...,     0,     0,     0],\n",
              "       [  303, 12051,   347, ...,     0,     0,     0],\n",
              "       [  178,    96,   723, ...,     0,     0,     0]], dtype=int32)"
            ]
          },
          "metadata": {},
          "execution_count": 32
        }
      ]
    },
    {
      "cell_type": "markdown",
      "metadata": {
        "id": "XzPgseiKUiZ1"
      },
      "source": [
        "### Bidirectional LSTM"
      ]
    },
    {
      "cell_type": "code",
      "metadata": {
        "trusted": true,
        "colab": {
          "base_uri": "https://localhost:8080/"
        },
        "id": "fpR7IDetUiZ1",
        "outputId": "4e9726e0-016c-404e-910d-a2f0844fd53b"
      },
      "source": [
        "from tensorflow.keras.callbacks import ReduceLROnPlateau \n",
        "\n",
        "model_bidir = tf.keras.Sequential([\n",
        "    tf.keras.layers.Embedding(max_words, embed_size, input_length=max_len),\n",
        "    tf.keras.layers.Bidirectional(tf.keras.layers.LSTM(32, return_sequences=True)),\n",
        "    tf.keras.layers.GlobalMaxPool1D(),\n",
        "    tf.keras.layers.Dense(16, activation='relu'),\n",
        "    tf.keras.layers.Dropout(0.2),\n",
        "    tf.keras.layers.Dense(1, activation='sigmoid')\n",
        "])\n",
        "\n",
        "\n",
        "rlrp = ReduceLROnPlateau(monitor='val_loss', factor=0.1, patience=2)\n",
        "model_bidir.compile(loss='binary_crossentropy', optimizer='adam', metrics=['accuracy'])\n",
        "model_bidir.summary()"
      ],
      "execution_count": 33,
      "outputs": [
        {
          "output_type": "stream",
          "name": "stdout",
          "text": [
            "Model: \"sequential\"\n",
            "_________________________________________________________________\n",
            "Layer (type)                 Output Shape              Param #   \n",
            "=================================================================\n",
            "embedding (Embedding)        (None, 70, 100)           3000000   \n",
            "_________________________________________________________________\n",
            "bidirectional (Bidirectional (None, 70, 64)            34048     \n",
            "_________________________________________________________________\n",
            "global_max_pooling1d (Global (None, 64)                0         \n",
            "_________________________________________________________________\n",
            "dense (Dense)                (None, 16)                1040      \n",
            "_________________________________________________________________\n",
            "dropout (Dropout)            (None, 16)                0         \n",
            "_________________________________________________________________\n",
            "dense_1 (Dense)              (None, 1)                 17        \n",
            "=================================================================\n",
            "Total params: 3,035,105\n",
            "Trainable params: 3,035,105\n",
            "Non-trainable params: 0\n",
            "_________________________________________________________________\n"
          ]
        }
      ]
    },
    {
      "cell_type": "code",
      "metadata": {
        "trusted": true,
        "colab": {
          "base_uri": "https://localhost:8080/"
        },
        "id": "pOjyMnKgUiZ2",
        "outputId": "df208320-91c5-4fe5-ec8b-37b0a2b998c5"
      },
      "source": [
        "history_bidir = model_bidir.fit(train_sequences, train_labels, batch_size=32, epochs=10, \n",
        "                    validation_data=(test_sequences, test_labels), \n",
        "                    callbacks=[rlrp] ,verbose=1)"
      ],
      "execution_count": 34,
      "outputs": [
        {
          "output_type": "stream",
          "name": "stdout",
          "text": [
            "Epoch 1/10\n",
            "716/716 [==============================] - 62s 82ms/step - loss: 0.4302 - accuracy: 0.7963 - val_loss: 0.3188 - val_accuracy: 0.8580\n",
            "Epoch 2/10\n",
            "716/716 [==============================] - 58s 81ms/step - loss: 0.1976 - accuracy: 0.9259 - val_loss: 0.3049 - val_accuracy: 0.8669\n",
            "Epoch 3/10\n",
            "716/716 [==============================] - 58s 82ms/step - loss: 0.0896 - accuracy: 0.9702 - val_loss: 0.3917 - val_accuracy: 0.8580\n",
            "Epoch 4/10\n",
            "716/716 [==============================] - 58s 81ms/step - loss: 0.0432 - accuracy: 0.9873 - val_loss: 0.5256 - val_accuracy: 0.8541\n",
            "Epoch 5/10\n",
            "716/716 [==============================] - 58s 82ms/step - loss: 0.0198 - accuracy: 0.9953 - val_loss: 0.5770 - val_accuracy: 0.8560\n",
            "Epoch 6/10\n",
            "716/716 [==============================] - 58s 82ms/step - loss: 0.0133 - accuracy: 0.9973 - val_loss: 0.6171 - val_accuracy: 0.8581\n",
            "Epoch 7/10\n",
            "716/716 [==============================] - 58s 81ms/step - loss: 0.0115 - accuracy: 0.9982 - val_loss: 0.6238 - val_accuracy: 0.8583\n",
            "Epoch 8/10\n",
            "716/716 [==============================] - 58s 82ms/step - loss: 0.0108 - accuracy: 0.9981 - val_loss: 0.6322 - val_accuracy: 0.8583\n",
            "Epoch 9/10\n",
            "716/716 [==============================] - 59s 82ms/step - loss: 0.0109 - accuracy: 0.9982 - val_loss: 0.6332 - val_accuracy: 0.8583\n",
            "Epoch 10/10\n",
            "716/716 [==============================] - 59s 82ms/step - loss: 0.0109 - accuracy: 0.9981 - val_loss: 0.6343 - val_accuracy: 0.8581\n"
          ]
        }
      ]
    },
    {
      "cell_type": "code",
      "metadata": {
        "trusted": true,
        "colab": {
          "base_uri": "https://localhost:8080/",
          "height": 641
        },
        "id": "MhibE7CaUiZ2",
        "outputId": "269d0458-a1d3-42ee-845f-3afb89ea09fa"
      },
      "source": [
        "score = model_bidir.evaluate(test_sequences, test_labels)\n",
        "print('Test Loss: ', score[0])\n",
        "print('Test Accuracy', score[1])\n",
        "\n",
        "\n",
        "# list all data in history\n",
        "print(history_bidir.history.keys())\n",
        "# summarize history for accuracy\n",
        "plt.plot(history_bidir.history['accuracy'])\n",
        "plt.plot(history_bidir.history['val_accuracy'])\n",
        "plt.title('Model Accuracy')\n",
        "plt.ylabel('accuracy')\n",
        "plt.xlabel('epoch')\n",
        "plt.legend(['train', 'test'], loc='upper left')\n",
        "plt.show()\n",
        "# summarize history for loss\n",
        "plt.plot(history_bidir.history['loss'])\n",
        "plt.plot(history_bidir.history['val_loss'])\n",
        "plt.title('Model Loss')\n",
        "plt.ylabel('loss')\n",
        "plt.xlabel('epoch')\n",
        "plt.legend(['train', 'test'], loc='upper left')\n",
        "plt.show()"
      ],
      "execution_count": 35,
      "outputs": [
        {
          "output_type": "stream",
          "name": "stdout",
          "text": [
            "179/179 [==============================] - 2s 13ms/step - loss: 0.6343 - accuracy: 0.8581\n",
            "Test Loss:  0.6342775821685791\n",
            "Test Accuracy 0.8581411838531494\n",
            "dict_keys(['loss', 'accuracy', 'val_loss', 'val_accuracy', 'lr'])\n"
          ]
        },
        {
          "output_type": "display_data",
          "data": {
            "image/png": "[encoded data removed]",
            "text/plain": [
              "<Figure size 432x288 with 1 Axes>"
            ]
          },
          "metadata": {
            "needs_background": "light"
          }
        },
        {
          "output_type": "display_data",
          "data": {
            "image/png": "[encoded data removed]",
            "text/plain": [
              "<Figure size 432x288 with 1 Axes>"
            ]
          },
          "metadata": {
            "needs_background": "light"
          }
        }
      ]
    },
    {
      "cell_type": "markdown",
      "metadata": {
        "id": "QTCHVeNrUiZ2"
      },
      "source": [
        "### Conclusion\n",
        "\n",
        "\n",
        "\n",
        "Best test Accuracy - 85.81 %\n"
      ]
    }
  ]
}